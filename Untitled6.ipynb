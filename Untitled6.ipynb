{
  "nbformat": 4,
  "nbformat_minor": 0,
  "metadata": {
    "colab": {
      "provenance": []
    },
    "kernelspec": {
      "name": "python3",
      "display_name": "Python 3"
    },
    "language_info": {
      "name": "python"
    }
  },
  "cells": [
    {
      "cell_type": "markdown",
      "source": [
        "hebbs rule using perceptron"
      ],
      "metadata": {
        "id": "gvSfLRTIwCsY"
      }
    },
    {
      "cell_type": "code",
      "execution_count": 1,
      "metadata": {
        "colab": {
          "base_uri": "https://localhost:8080/"
        },
        "id": "pPdgHCFLvel5",
        "outputId": "85183231-dc53-4220-e49b-f06d6858b213"
      },
      "outputs": [
        {
          "output_type": "stream",
          "name": "stdout",
          "text": [
            "Input: [1 1] Output: 1\n",
            "Input: [1 0] Output: 1\n",
            "Input: [0 1] Output: 1\n",
            "Input: [0 0] Output: 0\n"
          ]
        }
      ],
      "source": [
        "import numpy as np\n",
        "\n",
        "# Define the input data\n",
        "X = np.array([[1, 1], [1, 0], [0, 1], [0, 0]])\n",
        "\n",
        "# Define the target output\n",
        "y = np.array([1, 1, 1, 0])\n",
        "\n",
        "# Initialize the weights and bias\n",
        "w = np.zeros(2)\n",
        "b = 0\n",
        "\n",
        "# Set the learning rate\n",
        "alpha = 0.1\n",
        "\n",
        "# Train the perceptron\n",
        "for i in range(100):\n",
        "    for j in range(len(X)):\n",
        "        # Calculate the predicted output\n",
        "        y_pred = np.dot(X[j], w) + b\n",
        "\n",
        "        # Apply the activation function\n",
        "        if y_pred >= 0:\n",
        "            y_pred = 1\n",
        "        else:\n",
        "            y_pred = 0\n",
        "\n",
        "        # Update the weights and bias using Hebb's rule\n",
        "        w = w + alpha * (y[j] - y_pred) * X[j]\n",
        "        b = b + alpha * (y[j] - y_pred)\n",
        "\n",
        "# Test the perceptron\n",
        "for j in range(len(X)):\n",
        "    # Calculate the predicted output\n",
        "    y_pred = np.dot(X[j], w) + b\n",
        "\n",
        "    # Apply the activation function\n",
        "    if y_pred >= 0:\n",
        "        y_pred = 1\n",
        "    else:\n",
        "        y_pred = 0\n",
        "\n",
        "    # Print the predicted output\n",
        "    print(\"Input:\", X[j], \"Output:\", y_pred)"
      ]
    }
  ]
}