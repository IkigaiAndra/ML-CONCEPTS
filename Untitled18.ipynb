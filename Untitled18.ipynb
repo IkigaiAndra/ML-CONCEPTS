{
  "nbformat": 4,
  "nbformat_minor": 0,
  "metadata": {
    "colab": {
      "provenance": []
    },
    "kernelspec": {
      "name": "python3",
      "display_name": "Python 3"
    },
    "language_info": {
      "name": "python"
    }
  },
  "cells": [
    {
      "cell_type": "code",
      "execution_count": 1,
      "metadata": {
        "colab": {
          "base_uri": "https://localhost:8080/"
        },
        "id": "WhAAQn7AkHCR",
        "outputId": "ecc61737-ad86-445c-b338-566ca4db4f90"
      },
      "outputs": [
        {
          "output_type": "stream",
          "name": "stdout",
          "text": [
            "Car position: (1, 0)\n",
            "Car position: (3, 0)\n",
            "Car position: (6, 0)\n",
            "Car position: (10, 0)\n",
            "Car position: (15, 0)\n",
            "Car position: (21, 0)\n",
            "Car position: (28, 0)\n",
            "Car position: (36, 0)\n",
            "Car position: (45, 0)\n",
            "Car position: (55, 0)\n",
            "Car position: (66, 0)\n",
            "Car position: (78, 0)\n",
            "Car position: (91, 0)\n",
            "Car position: (105, 0)\n",
            "Car position: (120, 0)\n",
            "Car position: (136, 0)\n",
            "Car position: (153, 0)\n",
            "Car position: (171, 0)\n",
            "Car position: (190, 0)\n",
            "Car position: (210, 0)\n",
            "Car position: (231, 0)\n",
            "Car position: (253, 0)\n",
            "Car position: (276, 0)\n",
            "Car position: (300, 0)\n",
            "Car position: (325, 0)\n",
            "Car position: (351, 0)\n",
            "Car position: (378, 0)\n",
            "Car position: (406, 0)\n",
            "Car position: (435, 0)\n",
            "Car position: (465, 0)\n",
            "Car position: (496, 0)\n",
            "Car position: (528, 0)\n",
            "Car position: (561, 0)\n",
            "Car position: (595, 0)\n",
            "Car position: (630, 0)\n",
            "Car position: (666, 0)\n",
            "Car position: (703, 0)\n",
            "Car position: (741, 0)\n",
            "Car position: (780, 0)\n",
            "Car position: (820, 0)\n",
            "Car position: (861, 0)\n",
            "Car position: (903, 0)\n",
            "Car position: (946, 0)\n",
            "Car position: (990, 0)\n",
            "Car position: (1035, 0)\n",
            "Car position: (1081, 0)\n",
            "Car position: (1128, 0)\n",
            "Car position: (1176, 0)\n",
            "Car position: (1225, 0)\n",
            "Car position: (1275, 0)\n"
          ]
        }
      ],
      "source": [
        "import random\n",
        "\n",
        "class Car:\n",
        "    def __init__(self, x, y):\n",
        "        self.x = x\n",
        "        self.y = y\n",
        "        self.speed = 0\n",
        "\n",
        "    def accelerate(self):\n",
        "        self.speed += 1\n",
        "\n",
        "    def brake(self):\n",
        "        self.speed -= 1\n",
        "        if self.speed < 0:\n",
        "            self.speed = 0\n",
        "\n",
        "    def move(self):\n",
        "        self.x += self.speed\n",
        "\n",
        "class Road:\n",
        "    def __init__(self, length):\n",
        "        self.length = length\n",
        "        self.obstacles = [random.randint(10, length - 10) for _ in range(5)]\n",
        "\n",
        "    def is_obstacle(self, x):\n",
        "        return x in self.obstacles\n",
        "\n",
        "# Create a road and a car\n",
        "road = Road(100)\n",
        "car = Car(0, 0)\n",
        "\n",
        "# Simulation loop\n",
        "for _ in range(50):\n",
        "    # AI decision-making (basic example)\n",
        "    if road.is_obstacle(car.x + car.speed + 5):\n",
        "        car.brake()\n",
        "    else:\n",
        "        car.accelerate()\n",
        "\n",
        "    # Move the car\n",
        "    car.move()\n",
        "\n",
        "    # Print car position\n",
        "    print(f\"Car position: ({car.x}, {car.y})\")\n",
        "\n",
        "    # Check for collision\n",
        "    if road.is_obstacle(car.x):\n",
        "        print(\"Collision!\")\n",
        "        break"
      ]
    }
  ]
}