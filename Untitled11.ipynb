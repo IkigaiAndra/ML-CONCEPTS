{
  "nbformat": 4,
  "nbformat_minor": 0,
  "metadata": {
    "colab": {
      "provenance": []
    },
    "kernelspec": {
      "name": "python3",
      "display_name": "Python 3"
    },
    "language_info": {
      "name": "python"
    }
  },
  "cells": [
    {
      "cell_type": "code",
      "execution_count": 1,
      "metadata": {
        "colab": {
          "base_uri": "https://localhost:8080/"
        },
        "id": "2h7_ynnx9mWL",
        "outputId": "6b15740e-62bd-4398-f3f6-d125c4c6fc0d"
      },
      "outputs": [
        {
          "output_type": "stream",
          "name": "stdout",
          "text": [
            "Matthew's Correlation Coefficient: 1.0\n"
          ]
        }
      ],
      "source": [
        "import pandas as pd\n",
        "from sklearn.model_selection import train_test_split\n",
        "from sklearn.linear_model import LogisticRegression\n",
        "from sklearn.metrics import matthews_corrcoef\n",
        "\n",
        "# Sample data\n",
        "data = {'age': [22, 25, 30, 35, 40, 45, 50, 55, 60, 65],\n",
        "        'income': [50000, 60000, 70000, 80000, 90000, 100000, 110000, 120000, 130000, 140000],\n",
        "        'purchased': [0, 0, 0, 1, 1, 1, 1, 1, 1, 1]}\n",
        "df = pd.DataFrame(data)\n",
        "\n",
        "# Split data into training and testing sets\n",
        "X = df[['age', 'income']]\n",
        "y = df['purchased']\n",
        "X_train, X_test, y_train, y_test = train_test_split(X, y, test_size=0.2, random_state=42)\n",
        "\n",
        "# Train logistic regression model\n",
        "model = LogisticRegression()\n",
        "model.fit(X_train, y_train)\n",
        "\n",
        "# Predict on testing set\n",
        "y_pred = model.predict(X_test)\n",
        "\n",
        "# Calculate Matthew's correlation coefficient\n",
        "mcc = matthews_corrcoef(y_test, y_pred)\n",
        "print(\"Matthew's Correlation Coefficient:\", mcc)"
      ]
    }
  ]
}