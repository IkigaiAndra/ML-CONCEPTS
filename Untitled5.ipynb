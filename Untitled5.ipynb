{
  "nbformat": 4,
  "nbformat_minor": 0,
  "metadata": {
    "colab": {
      "provenance": []
    },
    "kernelspec": {
      "name": "python3",
      "display_name": "Python 3"
    },
    "language_info": {
      "name": "python"
    }
  },
  "cells": [
    {
      "cell_type": "code",
      "execution_count": 1,
      "metadata": {
        "colab": {
          "base_uri": "https://localhost:8080/"
        },
        "id": "wvHSAUEut4Rc",
        "outputId": "7b9b5634-2c92-4d79-afd5-9232131a3b3c"
      },
      "outputs": [
        {
          "output_type": "stream",
          "name": "stdout",
          "text": [
            "Output: 1\n"
          ]
        }
      ],
      "source": [
        "import numpy as np\n",
        "\n",
        "def mcculloch_pitts(inputs, weights, threshold):\n",
        "  \"\"\"\n",
        "  Implements a basic McCulloch-Pitts neuron.\n",
        "\n",
        "  Args:\n",
        "    inputs: A list of input values (0 or 1).\n",
        "    weights: A list of weights corresponding to each input.\n",
        "    threshold: The activation threshold.\n",
        "\n",
        "  Returns:\n",
        "    The output of the neuron (0 or 1).\n",
        "  \"\"\"\n",
        "  weighted_sum = np.dot(inputs, weights)\n",
        "  if weighted_sum >= threshold:\n",
        "    return 1\n",
        "  else:\n",
        "    return 0\n",
        "\n",
        "# Example usage:\n",
        "inputs = [1, 0, 1]\n",
        "weights = [0.5, 0.3, 0.2]\n",
        "threshold = 0.7\n",
        "\n",
        "output = mcculloch_pitts(inputs, weights, threshold)\n",
        "print(f\"Output: {output}\")"
      ]
    }
  ]
}