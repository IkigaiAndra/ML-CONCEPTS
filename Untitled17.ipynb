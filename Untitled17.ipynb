{
  "nbformat": 4,
  "nbformat_minor": 0,
  "metadata": {
    "colab": {
      "provenance": []
    },
    "kernelspec": {
      "name": "python3",
      "display_name": "Python 3"
    },
    "language_info": {
      "name": "python"
    }
  },
  "cells": [
    {
      "cell_type": "code",
      "execution_count": null,
      "metadata": {
        "colab": {
          "base_uri": "https://localhost:8080/"
        },
        "id": "HZId6VTXi9VG",
        "outputId": "bb4cf1a6-b0d9-4aca-d3bc-7e28499befcc"
      },
      "outputs": [
        {
          "output_type": "stream",
          "name": "stdout",
          "text": [
            "R N B Q K B N R\n",
            "P P P P P P P P\n",
            ". . . . . . . .\n",
            ". . . . . . . .\n",
            ". . . . . . . .\n",
            ". . . . . . . .\n",
            "p p p p p p p p\n",
            "r n b q k b n r\n",
            "Player 1, enter your move (e.g., a2 a4): a2\n",
            "Invalid move format. Please try again.\n",
            "Player 1, enter your move (e.g., a2 a4): a4\n",
            "Invalid move format. Please try again.\n"
          ]
        }
      ],
      "source": [
        "def create_board():\n",
        "    \"\"\"Creates a new chessboard.\"\"\"\n",
        "    board = [\n",
        "        ['R', 'N', 'B', 'Q', 'K', 'B', 'N', 'R'],\n",
        "        ['P', 'P', 'P', 'P', 'P', 'P', 'P', 'P'],\n",
        "        ['.', '.', '.', '.', '.', '.', '.', '.'],\n",
        "        ['.', '.', '.', '.', '.', '.', '.', '.'],\n",
        "        ['.', '.', '.', '.', '.', '.', '.', '.'],\n",
        "        ['.', '.', '.', '.', '.', '.', '.', '.'],\n",
        "        ['p', 'p', 'p', 'p', 'p', 'p', 'p', 'p'],\n",
        "        ['r', 'n', 'b', 'q', 'k', 'b', 'n', 'r']\n",
        "    ]\n",
        "    return board\n",
        "\n",
        "def print_board(board):\n",
        "    \"\"\"Prints the chessboard.\"\"\"\n",
        "    for row in board:\n",
        "        print(' '.join(row))\n",
        "\n",
        "def get_move(player):\n",
        "    \"\"\"Gets a move from the player.\"\"\"\n",
        "    while True:\n",
        "        move = input(f\"Player {player}, enter your move (e.g., a2 a4): \")\n",
        "        if len(move) == 5 and move[2] == ' ':\n",
        "            try:\n",
        "                start_row = int(move[1]) - 1\n",
        "                start_col = ord(move[0]) - ord('a')\n",
        "                end_row = int(move[4]) - 1\n",
        "                end_col = ord(move[3]) - ord('a')\n",
        "                return start_row, start_col, end_row, end_col\n",
        "            except ValueError:\n",
        "                pass\n",
        "        print(\"Invalid move format. Please try again.\")\n",
        "\n",
        "def is_valid_move(board, player, start_row, start_col, end_row, end_col):\n",
        "    \"\"\"Checks if the move is valid.\"\"\"\n",
        "    # Basic move validation (replace with full chess rules)\n",
        "    if 0 <= start_row < 8 and 0 <= start_col < 8 and \\\n",
        "       0 <= end_row < 8 and 0 <= end_col < 8 and \\\n",
        "       board[start_row][start_col] != '.' and \\\n",
        "       (board[start_row][start_col].islower() if player == 1 else board[start_row][start_col].isupper()):\n",
        "        return True\n",
        "    return False\n",
        "\n",
        "def make_move(board, start_row, start_col, end_row, end_col):\n",
        "    \"\"\"Makes the move on the board.\"\"\"\n",
        "    board[end_row][end_col] = board[start_row][start_col]\n",
        "    board[start_row][start_col] = '.'\n",
        "\n",
        "def main():\n",
        "    \"\"\"Main game loop.\"\"\"\n",
        "    board = create_board()\n",
        "    player = 1\n",
        "    while True:\n",
        "        print_board(board)\n",
        "        start_row, start_col, end_row, end_col = get_move(player)\n",
        "        if is_valid_move(board, player, start_row, start_col, end_row, end_col):\n",
        "            make_move(board, start_row, start_col, end_row, end_col)\n",
        "            player = 3 - player  # Switch players (1 -> 2, 2 -> 1)\n",
        "        else:\n",
        "            print(\"Invalid move. Please try again.\")\n",
        "\n",
        "if __name__ == \"__main__\":\n",
        "    main()"
      ]
    }
  ]
}