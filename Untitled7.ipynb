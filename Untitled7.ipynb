{
  "nbformat": 4,
  "nbformat_minor": 0,
  "metadata": {
    "colab": {
      "provenance": []
    },
    "kernelspec": {
      "name": "python3",
      "display_name": "Python 3"
    },
    "language_info": {
      "name": "python"
    }
  },
  "cells": [
    {
      "cell_type": "code",
      "execution_count": 1,
      "metadata": {
        "colab": {
          "base_uri": "https://localhost:8080/"
        },
        "id": "x9qw2cFxwzyB",
        "outputId": "7201e302-faf2-4877-e6da-20d9b3e32b4f"
      },
      "outputs": [
        {
          "output_type": "stream",
          "name": "stdout",
          "text": [
            "No solution found for XOR using a single McCulloch-Pitts neuron.\n"
          ]
        }
      ],
      "source": [
        "import numpy as np\n",
        "\n",
        "def mcculloch_pitts(inputs, weights, threshold):\n",
        "  \"\"\"Implements a McCulloch-Pitts neuron.\n",
        "\n",
        "  Args:\n",
        "    inputs: A list of binary inputs (0 or 1).\n",
        "    weights: A list of weights corresponding to the inputs.\n",
        "    threshold: The activation threshold.\n",
        "\n",
        "  Returns:\n",
        "    1 if the weighted sum of inputs is greater than or equal to the threshold,\n",
        "    0 otherwise.\n",
        "  \"\"\"\n",
        "  weighted_sum = np.dot(inputs, weights)\n",
        "  return 1 if weighted_sum >= threshold else 0\n",
        "\n",
        "# Define the XOR function truth table\n",
        "inputs = [[0, 0], [0, 1], [1, 0], [1, 1]]\n",
        "outputs = [0, 1, 1, 0]\n",
        "\n",
        "# Try to find weights and threshold that solve XOR\n",
        "found_solution = False\n",
        "for w1 in [0, 1]:\n",
        "  for w2 in [0, 1]:\n",
        "    for threshold in [0, 1, 2]:\n",
        "      correct_predictions = 0\n",
        "      for i in range(len(inputs)):\n",
        "        prediction = mcculloch_pitts(inputs[i], [w1, w2], threshold)\n",
        "        if prediction == outputs[i]:\n",
        "          correct_predictions += 1\n",
        "      if correct_predictions == len(inputs):\n",
        "        print(\"Found solution: w1 =\", w1, \", w2 =\", w2, \", threshold =\", threshold)\n",
        "        found_solution = True\n",
        "        break\n",
        "    if found_solution:\n",
        "      break\n",
        "  if found_solution:\n",
        "    break\n",
        "\n",
        "if not found_solution:\n",
        "  print(\"No solution found for XOR using a single McCulloch-Pitts neuron.\")\n",
        ""
      ]
    }
  ]
}