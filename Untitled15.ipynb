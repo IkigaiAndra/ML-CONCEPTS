{
  "nbformat": 4,
  "nbformat_minor": 0,
  "metadata": {
    "colab": {
      "provenance": []
    },
    "kernelspec": {
      "name": "python3",
      "display_name": "Python 3"
    },
    "language_info": {
      "name": "python"
    }
  },
  "cells": [
    {
      "cell_type": "code",
      "execution_count": 1,
      "metadata": {
        "colab": {
          "base_uri": "https://localhost:8080/"
        },
        "id": "Rb8GM4fbgBVc",
        "outputId": "67bc4b84-3bf5-4667-8471-ce335f17034b"
      },
      "outputs": [
        {
          "output_type": "stream",
          "name": "stdout",
          "text": [
            "Original Data:\n",
            "      name   age         city   salary age_group\n",
            "0    Alice  25.0     New York  60000.0     20-30\n",
            "1      Bob  30.0  Los Angeles  75000.0     20-30\n",
            "2  Charlie  29.5      Chicago  70000.0     20-30\n",
            "3    David  35.0      Houston  80000.0     30-40\n",
            "4      Eve  28.0        Miami  65000.0     20-30\n",
            "\n",
            "Average Salary by City:\n",
            "city\n",
            "Chicago        70000.0\n",
            "Houston        80000.0\n",
            "Los Angeles    75000.0\n",
            "Miami          65000.0\n",
            "New York       60000.0\n",
            "Name: salary, dtype: float64\n",
            "\n",
            "Filtered Data:\n",
            "      name   age         city   salary age_group\n",
            "0    Alice  25.0     New York  60000.0     20-30\n",
            "1      Bob  30.0  Los Angeles  75000.0     20-30\n",
            "2  Charlie  29.5      Chicago  70000.0     20-30\n",
            "3    David  35.0      Houston  80000.0     30-40\n",
            "4      Eve  28.0        Miami  65000.0     20-30\n"
          ]
        }
      ],
      "source": [
        "import pandas as pd\n",
        "import numpy as np\n",
        "\n",
        "# Create sample data\n",
        "data = {'name': ['Alice', 'Bob', 'Charlie', 'David', 'Eve'],\n",
        "        'age': [25, 30, np.nan, 35, 28],\n",
        "        'city': ['New York', 'Los Angeles', 'Chicago', 'Houston', 'Miami'],\n",
        "        'salary': [60000, 75000, np.nan, 80000, 65000]}\n",
        "df = pd.DataFrame(data)\n",
        "\n",
        "# 1. Handling Missing Values\n",
        "# Fill missing age with the mean\n",
        "df['age'] = df['age'].fillna(df['age'].mean())\n",
        "# Fill missing salary with the median\n",
        "df['salary'] = df['salary'].fillna(df['salary'].median())\n",
        "\n",
        "# 2. Data Transformation\n",
        "# Create a new column 'age_group'\n",
        "df['age_group'] = pd.cut(df['age'], bins=[20, 30, 40, 50], labels=['20-30', '30-40', '40-50'])\n",
        "\n",
        "# 3. Data Aggregation\n",
        "# Calculate average salary by city\n",
        "avg_salary_by_city = df.groupby('city')['salary'].mean()\n",
        "\n",
        "# 4. Data Filtering\n",
        "# Filter data for people aged between 25 and 35\n",
        "filtered_data = df[(df['age'] >= 25) & (df['age'] <= 35)]\n",
        "\n",
        "# Display the results\n",
        "print(\"Original Data:\")\n",
        "print(df)\n",
        "print(\"\\nAverage Salary by City:\")\n",
        "print(avg_salary_by_city)\n",
        "print(\"\\nFiltered Data:\")\n",
        "print(filtered_data)"
      ]
    }
  ]
}