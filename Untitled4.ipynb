{
  "nbformat": 4,
  "nbformat_minor": 0,
  "metadata": {
    "colab": {
      "provenance": []
    },
    "kernelspec": {
      "name": "python3",
      "display_name": "Python 3"
    },
    "language_info": {
      "name": "python"
    }
  },
  "cells": [
    {
      "cell_type": "markdown",
      "source": [
        "design a perceptron of and or not xor xnor nand nor with output"
      ],
      "metadata": {
        "id": "ZX0-scossqLS"
      }
    },
    {
      "cell_type": "code",
      "source": [
        "import numpy as np\n",
        "\n",
        "def activation_function(x):\n",
        "    return 1 if x >= 0 else 0\n",
        "\n",
        "def perceptron(inputs, weights, bias):\n",
        "    weighted_sum = np.dot(inputs, weights) + bias\n",
        "    return activation_function(weighted_sum)\n",
        "\n",
        "# AND gate\n",
        "and_weights = np.array([1, 1])\n",
        "and_bias = -1.5\n",
        "\n",
        "# OR gate\n",
        "or_weights = np.array([1, 1])\n",
        "or_bias = -0.5\n",
        "\n",
        "# NOT gate\n",
        "not_weights = np.array([-1])\n",
        "not_bias = 0.5\n",
        "\n",
        "# NAND gate\n",
        "nand_weights = np.array([-1, -1])\n",
        "nand_bias = 1.5\n",
        "\n",
        "# NOR gate\n",
        "nor_weights = np.array([-1, -1])\n",
        "nor_bias = 0.5\n",
        "\n",
        "# XOR and XNOR - Require multi-layer perceptron (not implemented here)\n",
        "\n",
        "# Example usage:\n",
        "inputs = np.array([1, 1])  # Input values\n",
        "\n",
        "# Calculate and print outputs for each gate\n",
        "and_output = perceptron(inputs, and_weights, and_bias)\n",
        "print(f\"AND output: {and_output}\")\n",
        "\n",
        "or_output = perceptron(inputs, or_weights, or_bias)\n",
        "print(f\"OR output: {or_output}\")\n",
        "\n",
        "not_output = perceptron(inputs[0], not_weights, not_bias)  # NOT takes single input\n",
        "print(f\"NOT output: {not_output}\")\n",
        "\n",
        "nand_output = perceptron(inputs, nand_weights, nand_bias)\n",
        "print(f\"NAND output: {nand_output}\")\n",
        "\n",
        "nor_output = perceptron(inputs, nor_weights, nor_bias)\n",
        "print(f\"NOR output: {nor_output}\")\n",
        "\n",
        "# To see the output, run the code."
      ],
      "metadata": {
        "colab": {
          "base_uri": "https://localhost:8080/"
        },
        "id": "4m9vj9J5r7-g",
        "outputId": "a466973b-5b43-4c78-83f6-8a3dad1d0fd2"
      },
      "execution_count": 2,
      "outputs": [
        {
          "output_type": "stream",
          "name": "stdout",
          "text": [
            "AND output: 1\n",
            "OR output: 1\n",
            "NOT output: 0\n",
            "NAND output: 0\n",
            "NOR output: 0\n"
          ]
        }
      ]
    },
    {
      "cell_type": "markdown",
      "source": [
        " train a perceptron model with weights and print results"
      ],
      "metadata": {
        "id": "CtABp0_GsuKe"
      }
    },
    {
      "cell_type": "code",
      "source": [
        "import numpy as np\n",
        "\n",
        "class Perceptron:\n",
        "    def __init__(self, learning_rate=0.1, epochs=100):\n",
        "        self.learning_rate = learning_rate\n",
        "        self.epochs = epochs\n",
        "        self.weights = None\n",
        "        self.bias = None\n",
        "\n",
        "    def activation_function(self, x):\n",
        "        return 1 if x >= 0 else 0\n",
        "\n",
        "    def predict(self, inputs):\n",
        "        weighted_sum = np.dot(inputs, self.weights) + self.bias\n",
        "        return self.activation_function(weighted_sum)\n",
        "\n",
        "    def train(self, training_inputs, labels):\n",
        "        self.weights = np.zeros(training_inputs.shape[1])\n",
        "        self.bias = 0\n",
        "\n",
        "        for _ in range(self.epochs):\n",
        "            for inputs, label in zip(training_inputs, labels):\n",
        "                prediction = self.predict(inputs)\n",
        "                error = label - prediction\n",
        "                self.weights += self.learning_rate * error * inputs\n",
        "                self.bias += self.learning_rate * error\n",
        "\n",
        "# Example usage:\n",
        "training_inputs = np.array([[0, 0], [0, 1], [1, 0], [1, 1]])\n",
        "labels = np.array([0, 1, 1, 1])  # OR gate labels\n",
        "\n",
        "perceptron = Perceptron()\n",
        "perceptron.train(training_inputs, labels)\n",
        "\n",
        "# Print the trained weights and bias\n",
        "print(\"Trained weights:\", perceptron.weights)\n",
        "print(\"Trained bias:\", perceptron.bias)\n",
        "\n",
        "# Test the perceptron\n",
        "test_inputs = np.array([[0, 0], [0, 1], [1, 0], [1, 1]])\n",
        "for inputs in test_inputs:\n",
        "    prediction = perceptron.predict(inputs)\n",
        "    print(f\"Input: {inputs}, Prediction: {prediction}\")\n",
        "\n",
        "# To see the output, run the code."
      ],
      "metadata": {
        "colab": {
          "base_uri": "https://localhost:8080/"
        },
        "id": "jXB5hYhgsbku",
        "outputId": "a36c3ee1-f92a-4f31-d47e-59d5dfb52c54"
      },
      "execution_count": 3,
      "outputs": [
        {
          "output_type": "stream",
          "name": "stdout",
          "text": [
            "Trained weights: [0.1 0.1]\n",
            "Trained bias: -0.1\n",
            "Input: [0 0], Prediction: 0\n",
            "Input: [0 1], Prediction: 1\n",
            "Input: [1 0], Prediction: 1\n",
            "Input: [1 1], Prediction: 1\n"
          ]
        }
      ]
    }
  ]
}