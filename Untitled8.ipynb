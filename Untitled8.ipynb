{
  "nbformat": 4,
  "nbformat_minor": 0,
  "metadata": {
    "colab": {
      "provenance": []
    },
    "kernelspec": {
      "name": "python3",
      "display_name": "Python 3"
    },
    "language_info": {
      "name": "python"
    }
  },
  "cells": [
    {
      "cell_type": "markdown",
      "source": [
        "mean squared error using perceptron"
      ],
      "metadata": {
        "id": "JYE1LCOqzTUq"
      }
    },
    {
      "cell_type": "code",
      "execution_count": 1,
      "metadata": {
        "colab": {
          "base_uri": "https://localhost:8080/"
        },
        "id": "tNjX3hhmx6vV",
        "outputId": "a8e6c39e-f4b8-41be-8fe3-9ab2ec6ca563"
      },
      "outputs": [
        {
          "output_type": "stream",
          "name": "stdout",
          "text": [
            "Mean Squared Error: 0.55\n"
          ]
        }
      ],
      "source": [
        "import numpy as np\n",
        "\n",
        "# Define the activation function\n",
        "def activation_function(x):\n",
        "  return 1 if x >= 0 else 0\n",
        "\n",
        "# Define the perceptron\n",
        "def perceptron(inputs, weights, bias):\n",
        "  weighted_sum = np.dot(inputs, weights) + bias\n",
        "  return activation_function(weighted_sum)\n",
        "\n",
        "# Generate 60 random input values\n",
        "inputs = np.random.rand(60, 2)  # 60 samples with 2 features each\n",
        "\n",
        "# Define the target output values\n",
        "target_outputs = np.random.randint(0, 2, size=60)  # 60 random binary targets\n",
        "\n",
        "# Initialize the weights and bias\n",
        "weights = np.random.rand(2)\n",
        "bias = np.random.rand()\n",
        "\n",
        "# Calculate the error function\n",
        "errors = []\n",
        "for i in range(60):\n",
        "  prediction = perceptron(inputs[i], weights, bias)\n",
        "  error = target_outputs[i] - prediction\n",
        "  errors.append(error)\n",
        "\n",
        "# Calculate the mean squared error\n",
        "mse = np.mean(np.square(errors))\n",
        "\n",
        "# Print the result\n",
        "print(\"Mean Squared Error:\", mse)"
      ]
    },
    {
      "cell_type": "markdown",
      "source": [
        "standard deviation and variance"
      ],
      "metadata": {
        "id": "P9ncOBlfzZu5"
      }
    },
    {
      "cell_type": "code",
      "source": [
        "import numpy as np\n",
        "\n",
        "# Generate 60 random values\n",
        "values = np.random.rand(60)\n",
        "\n",
        "# Calculate the mean\n",
        "mean = np.mean(values)\n",
        "\n",
        "# Calculate the squared differences from the mean\n",
        "squared_diffs = [(x - mean) ** 2 for x in values]\n",
        "\n",
        "# Calculate the variance\n",
        "variance = np.sum(squared_diffs) / (len(values) -1)  # -1 for sample variance # If the values represent the entire population, you can divide by len(values) instead to calculate population variance\n",
        "\n",
        "# Calculate the standard deviation\n",
        "std_dev = np.sqrt(variance)\n",
        "\n",
        "# Print the results\n",
        "print(\"Variance:\", variance)\n",
        "print(\"Standard Deviation:\", std_dev)"
      ],
      "metadata": {
        "colab": {
          "base_uri": "https://localhost:8080/"
        },
        "id": "_UJalE-fzevw",
        "outputId": "ac6a81f7-b4aa-4b63-9c86-32580fa27b4b"
      },
      "execution_count": 2,
      "outputs": [
        {
          "output_type": "stream",
          "name": "stdout",
          "text": [
            "Variance: 0.09579747506701969\n",
            "Standard Deviation: 0.30951167193987966\n"
          ]
        }
      ]
    }
  ]
}